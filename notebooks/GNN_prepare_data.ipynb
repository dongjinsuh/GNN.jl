{
 "cells": [
  {
   "cell_type": "code",
   "execution_count": 1,
   "id": "a2c24f8e",
   "metadata": {},
   "outputs": [],
   "source": [
    "using HDF5\n",
    "using Printf\n",
    "using DataFrames\n",
    "using QAOA"
   ]
  },
  {
   "cell_type": "code",
   "execution_count": 2,
   "id": "cab7cde8",
   "metadata": {},
   "outputs": [
    {
     "data": {
      "text/plain": [
       "energies_and_bitstrings_qaoa (generic function with 1 method)"
      ]
     },
     "metadata": {},
     "output_type": "display_data"
    }
   ],
   "source": [
    "function energies_and_bitstrings_qaoa(annealing_problem)\n",
    "    L = annealing_problem.num_qubits\n",
    "    h = annealing_problem.local_fields\n",
    "    J = annealing_problem.couplings\n",
    "    \n",
    "    bit_string_df = DataFrame( bit_string = [], energy = Float64[]);\n",
    "    \n",
    "    bitstrings = [string(i, base=2, pad=L) |> reverse for i in 0:(2^L - 1)]\n",
    "    bitvals = [parse.(Int, [bitstring[j] for j in 1:L]) for bitstring in bitstrings]\n",
    "    spins = [1 .- 2s for s in bitvals]\n",
    "    \n",
    "    for spin in spins\n",
    "        energy = sum([-h[l] * spin[l] for l in 1:L]) + sum([-J[i, j] * spin[i] * spin[j] for i in 1:L for j in (i+1):L])\n",
    "        push!(bit_string_df,[ spin, energy])\n",
    "    end\n",
    "    \n",
    "    return bit_string_df\n",
    "end"
   ]
  },
  {
   "cell_type": "code",
   "execution_count": 3,
   "id": "066a2d3a",
   "metadata": {},
   "outputs": [
    {
     "data": {
      "text/plain": [
       "sk_instance_to_graph"
      ]
     },
     "metadata": {},
     "output_type": "display_data"
    }
   ],
   "source": [
    "\"Build SK model graph from J, h\"\n",
    "function sk_instance_to_graph(J::Matrix{Float64}, h::Vector{Float64})\n",
    "    N = length(h)\n",
    "    edge_src = Int[]\n",
    "    edge_dst = Int[]\n",
    "    edge_attr = Float32[]\n",
    "    \n",
    "    for i in 1:N, j in 1:N\n",
    "        if i != j\n",
    "            push!(edge_src, i)\n",
    "            push!(edge_dst, j)\n",
    "            push!(edge_attr, Float32(J[i, j]))\n",
    "        end\n",
    "    end\n",
    "\n",
    "    # Node features: h_i, mean(|J|), std(|J|)\n",
    "    node_features = zeros(Float32, N, 3)\n",
    "    for i in 1:N\n",
    "        J_i = abs.(J[i, setdiff(1:N, i)])\n",
    "        node_features[i, :] = Float32.([h[i], mean(J_i), std(J_i)])\n",
    "    end\n",
    "\n",
    "    g = SimpleDiGraph(N)\n",
    "    for (s, d) in zip(edge_src, edge_dst)\n",
    "        add_edge!(g, s, d)\n",
    "    end\n",
    "\n",
    "    return (\n",
    "        g,                        # Graph structure\n",
    "        node_features,           # N × d node features\n",
    "        edge_attr,               # E vector (one per edge)\n",
    "        edge_src, edge_dst       # source and target indices\n",
    "    )\n",
    "end"
   ]
  },
  {
   "cell_type": "code",
   "execution_count": 4,
   "id": "8a23c337",
   "metadata": {},
   "outputs": [
    {
     "data": {
      "text/plain": [
       "save_instance_with_solution (generic function with 2 methods)"
      ]
     },
     "metadata": {},
     "output_type": "display_data"
    }
   ],
   "source": [
    "function save_instance_with_solution(file_path::String, n::Int, output_dir::String = \".\")\n",
    "    # Extract seed from file name\n",
    "    seed_match = match(r\"seed_(\\d+)\", file_path)\n",
    "    seed = seed_match !== nothing ? parse(Int, seed_match.captures[1]) : error(\"Seed not found\")\n",
    "\n",
    "    # Load J and h\n",
    "    gs_energy = h5read(file_name, \"ground_state_energy\") \n",
    "    J = h5read(file_path, \"couplings\")\n",
    "    h = h5read(file_path, \"local_fields\")\n",
    "    mf_problem = Problem(0, h, J);\n",
    "\n",
    "    # Compute solution\n",
    "    z_opt = energies_and_bitstrings_qaoa(mf_problem)\n",
    "\n",
    "    # Create new file name\n",
    "    file_name = splitext(basename(file_path))[1]\n",
    "    new_file = joinpath(output_dir, \"$(file_name)_solution.h5\")\n",
    "\n",
    "    # Write to new h5 file\n",
    "    h5write(new_file, \"couplings\", J)\n",
    "    h5write(new_file, \"local_fields\", h)\n",
    "    h5write(new_file, \"ground_state_energy\", gs_energy)\n",
    "    h5write(new_file, \"solution_bitstring\", z_opt)\n",
    "    #h5write(new_file, \"seed\", seed)\n",
    "\n",
    "    println(\"Saved: $new_file\")\n",
    "    return new_file\n",
    "end"
   ]
  },
  {
   "cell_type": "markdown",
   "id": "7764c7d7",
   "metadata": {},
   "source": [
    "SK data"
   ]
  },
  {
   "cell_type": "code",
   "execution_count": 11,
   "id": "322e2c0a",
   "metadata": {},
   "outputs": [],
   "source": [
    "# number of spins\n",
    "N = 18\n",
    "#N = parse(Int, ARGS[1])\n",
    "\n",
    "PATH = raw\"/home/ubuntu/aqc_QAOA/SpinFluctuations.jl\"\n",
    "subdir = \"small_gaps\"\n",
    "\n",
    "folder_name = PATH * @sprintf(\"//data//N_%i//\", N);\n",
    "\n",
    "### change N in the pattern individually \n",
    "pattern = r\"hard_random_SK_instance_N_18_seed_(\\d+)\\.h5\"\n",
    "###\n",
    "\n",
    "instance_names = readdir(folder_name)\n",
    "loop_var = 1\n",
    "total_num_inst = 0\n",
    "\n",
    "\n",
    "for (k, instance_name) in enumerate(instance_names[loop_var+0:loop_var+109])\n",
    "\n",
    "    seed = match(pattern, instance_name)[1]\n",
    "    seed = parse(Int64, seed)\n",
    "    #println(\"seed: \",seed)\n",
    "    \n",
    "    #spin_idx = 2\n",
    "    file_name = folder_name * @sprintf(\"hard_random_SK_instance_N_%i_seed_%i.h5\", N , seed)\n",
    "    \n",
    "    gs_energy = h5read(file_name, \"ground_state_energy\") \n",
    "    J = h5read(file_name, \"couplings\")\n",
    "    h = h5read(file_name, \"local_fields\")\n",
    "    mf_problem = Problem(0, h, J);\n",
    "\n",
    "    # Compute solution\n",
    "    z_opt = energies_and_bitstrings_qaoa(mf_problem)\n",
    "\n",
    "    sorted_df = sort(z_opt, :energy)\n",
    "\n",
    "    lowest_energy_row = sorted_df[1, :]\n",
    "\n",
    "    z_opt = lowest_energy_row[1]\n",
    "\n",
    "\n",
    "    PATH_w = raw\"/home/ubuntu/aqc_GNN/\"\n",
    "    #subdir = \"small_gaps\"\n",
    "\n",
    "    folder_name_w = PATH_w * @sprintf(\"//SK_data//N_%i//\", N);\n",
    "\n",
    "    h5open(folder_name_w * @sprintf(\"hard_SK_instance_bitstring_N_%i_seed_%i.h5\", N, seed), \"w\") do file\n",
    "        write(file, \"couplings\", J)            \n",
    "        write(file, \"local_fields\", h)         \n",
    "        write(file, \"ground_state_energy\", gs_energy)        \n",
    "        write(file, \"solution_bitstring\", z_opt)\n",
    "    \n",
    "    end\n",
    "    #println(z_opt)\n",
    "\n",
    "end    "
   ]
  },
  {
   "cell_type": "markdown",
   "id": "eb07e761",
   "metadata": {},
   "source": [
    "MAX2SAT"
   ]
  },
  {
   "cell_type": "code",
   "execution_count": null,
   "id": "9dfa2edb",
   "metadata": {},
   "outputs": [],
   "source": [
    "# number of spins\n",
    "N = 16\n",
    "num_clauses = 3N\n",
    "\n",
    "PATH = raw\"/home/ubuntu/MAX2SAT/MAX2SATQuantumData/Mirkarimi_data/\"\n",
    "#subdir = \"small_gaps\"\n",
    "\n",
    "#folder_name = PATH * @sprintf(\"/HDF5/N_\", N);\n",
    "println(PATH)\n",
    "\n",
    "instance_names = collect(1:2000)\n",
    "loop_var = 1\n",
    "total_num_inst = 0\n",
    "\n",
    "\n",
    "for (k, idx) in enumerate(instance_names[1:1000])\n",
    "    \n",
    "    #spin_idx = 2\n",
    " \n",
    "    file_name = PATH * @sprintf(\"/HDF5/max2sat_typical_instance_%04i_from_arxiv_2206_06876_N_%i_num_clauses_%i.h5\", idx, N, num_clauses)\n",
    "  \n",
    "    #gs_energy = h5read(file_name, \"ground_state_energy\") \n",
    "    J = h5read(file_name, \"coupling_matrix\")\n",
    "    h = h5read(file_name, \"local_fields\")\n",
    "    h = - h # MAX2SAT minus sign added\n",
    "    mf_problem = Problem(0, h, J);\n",
    "\n",
    "    # Compute solution\n",
    "    z_opt = energies_and_bitstrings_qaoa(mf_problem)\n",
    "\n",
    "    sorted_df = sort(z_opt, :energy)\n",
    "\n",
    "    lowest_energy_row = sorted_df[1, :]\n",
    "\n",
    "    z_opt = lowest_energy_row[1]\n",
    "\n",
    "    gs_energy = lowest_energy_row[2]\n",
    "    #println(gs_energy)\n",
    "\n",
    "    PATH_w = raw\"/home/ubuntu/aqc_GNN/\"\n",
    "    #subdir = \"small_gaps\"\n",
    "\n",
    "    folder_name_w = PATH_w * @sprintf(\"//MAX2SAT_data//N_%i//\", N);\n",
    "\n",
    "    h5open(folder_name_w * @sprintf(\"MAX2SAT_instance_bitstring_N_%i_idx_%04i.h5\", N, idx), \"w\") do file\n",
    "        write(file, \"couplings\", J)            \n",
    "        write(file, \"local_fields\", h)         \n",
    "        write(file, \"ground_state_energy\", gs_energy)        \n",
    "        write(file, \"solution_bitstring\", z_opt)\n",
    "    \n",
    "    end\n",
    "    #println(z_opt)\n",
    "\n",
    "end    "
   ]
  }
 ],
 "metadata": {
  "kernelspec": {
   "display_name": "Julia 1.11.1",
   "language": "julia",
   "name": "julia-1.11"
  },
  "language_info": {
   "file_extension": ".jl",
   "mimetype": "application/julia",
   "name": "julia",
   "version": "1.11.1"
  }
 },
 "nbformat": 4,
 "nbformat_minor": 5
}
